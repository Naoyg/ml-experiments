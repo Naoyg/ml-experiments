{
 "cells": [
  {
   "cell_type": "markdown",
   "id": "aaf74408-1b43-47e0-a8bb-d1583010725d",
   "metadata": {},
   "source": [
    "# MLflow使用方法のサンプル\n",
    "\n",
    "このノートブックではMLflowの基本的な使用方法を説明します。"
   ]
  },
  {
   "cell_type": "markdown",
   "id": "6d99b7d2-6812-4437-bc82-c0498d5863d1",
   "metadata": {},
   "source": [
    "## 1. MLflowのセットアップ\n",
    "\n",
    "MLflowサーバーへの接続設定を行います。compose.yamlで定義されているMLflowサーバーを使用します。"
   ]
  },
  {
   "cell_type": "code",
   "execution_count": 11,
   "id": "cwdeurgpsxs",
   "metadata": {},
   "outputs": [],
   "source": [
    "import mlflow\n",
    "import mlflow.sklearn\n",
    "from sklearn.model_selection import train_test_split\n",
    "from sklearn.ensemble import RandomForestClassifier\n",
    "from sklearn.datasets import load_iris\n",
    "from sklearn.metrics import accuracy_score, precision_score, recall_score\n",
    "import numpy as np\n",
    "import pandas as pd"
   ]
  },
  {
   "cell_type": "code",
   "execution_count": 12,
   "id": "4uyvqtmwb4g",
   "metadata": {},
   "outputs": [
    {
     "name": "stdout",
     "output_type": "stream",
     "text": [
      "MLflow Tracking URI: http://localhost:5000\n"
     ]
    }
   ],
   "source": [
    "# MLflowトラッキングサーバーのURI設定\n",
    "mlflow.set_tracking_uri(\"http://localhost:5000\")\n",
    "\n",
    "# 現在のトラッキングURIを確認\n",
    "print(f\"MLflow Tracking URI: {mlflow.get_tracking_uri()}\")"
   ]
  },
  {
   "cell_type": "markdown",
   "id": "ztt7zybh7xd",
   "metadata": {},
   "source": [
    "## 2. Experimentの作成・設定\n",
    "\n",
    "実験を管理するためのExperimentを作成します。"
   ]
  },
  {
   "cell_type": "code",
   "execution_count": 13,
   "id": "stdesvdljft",
   "metadata": {},
   "outputs": [
    {
     "name": "stdout",
     "output_type": "stream",
     "text": [
      "Using existing experiment: iris-classification (ID: 1)\n"
     ]
    },
    {
     "data": {
      "text/plain": [
       "<Experiment: artifact_location='s3://mlflow-artifacts-xxx/artifact_location/1', creation_time=1754221799149, experiment_id='1', last_update_time=1754221799149, lifecycle_stage='active', name='iris-classification', tags={}>"
      ]
     },
     "execution_count": 13,
     "metadata": {},
     "output_type": "execute_result"
    }
   ],
   "source": [
    "# Experimentの作成または取得\n",
    "experiment_name = \"iris-classification\"\n",
    "experiment = mlflow.get_experiment_by_name(experiment_name)\n",
    "\n",
    "if experiment is None:\n",
    "    experiment_id = mlflow.create_experiment(experiment_name)\n",
    "    print(f\"Created new experiment: {experiment_name} (ID: {experiment_id})\")\n",
    "else:\n",
    "    experiment_id = experiment.experiment_id\n",
    "    print(f\"Using existing experiment: {experiment_name} (ID: {experiment_id})\")\n",
    "\n",
    "mlflow.set_experiment(experiment_name)"
   ]
  },
  {
   "cell_type": "markdown",
   "id": "zqunu5x7e89",
   "metadata": {},
   "source": [
    "## 3. データの準備\n",
    "\n",
    "サンプルデータセット（Iris）を使用してモデルを訓練します。"
   ]
  },
  {
   "cell_type": "code",
   "execution_count": 14,
   "id": "y4wsoze5jij",
   "metadata": {},
   "outputs": [
    {
     "name": "stdout",
     "output_type": "stream",
     "text": [
      "Training data shape: (120, 4)\n",
      "Test data shape: (30, 4)\n"
     ]
    }
   ],
   "source": [
    "# データの読み込み\n",
    "iris = load_iris()\n",
    "X, y = iris.data, iris.target\n",
    "\n",
    "# データの分割\n",
    "X_train, X_test, y_train, y_test = train_test_split(X, y, test_size=0.2, random_state=42)\n",
    "\n",
    "print(f\"Training data shape: {X_train.shape}\")\n",
    "print(f\"Test data shape: {X_test.shape}\")"
   ]
  },
  {
   "cell_type": "markdown",
   "id": "ysjbam6535g",
   "metadata": {},
   "source": [
    "## 4. モデルの訓練とMLflowでのトラッキング\n",
    "\n",
    "複数の異なるパラメータでモデルを訓練し、結果をMLflowで記録します。"
   ]
  },
  {
   "cell_type": "code",
   "execution_count": 15,
   "id": "ygjfncqoxna",
   "metadata": {},
   "outputs": [
    {
     "name": "stderr",
     "output_type": "stream",
     "text": [
      "2025/08/03 20:54:15 WARNING mlflow.utils.environment: Failed to resolve installed pip version. ``pip`` will be added to conda.yaml environment spec without a version specifier.\n",
      "\u001b[31m2025/08/03 20:54:15 WARNING mlflow.models.model: Model logged without a signature and input example. Please set `input_example` parameter when logging the model to auto infer the model signature.\u001b[0m\n"
     ]
    },
    {
     "name": "stdout",
     "output_type": "stream",
     "text": [
      "Run 1: Accuracy = 1.0000, Precision = 1.0000, Recall = 1.0000\n",
      "🏃 View run random_forest_run_1 at: http://localhost:5000/#/experiments/1/runs/0741e30920f7478991abf52f98468960\n",
      "🧪 View experiment at: http://localhost:5000/#/experiments/1\n"
     ]
    },
    {
     "name": "stderr",
     "output_type": "stream",
     "text": [
      "2025/08/03 20:54:19 WARNING mlflow.utils.environment: Failed to resolve installed pip version. ``pip`` will be added to conda.yaml environment spec without a version specifier.\n",
      "\u001b[31m2025/08/03 20:54:19 WARNING mlflow.models.model: Model logged without a signature and input example. Please set `input_example` parameter when logging the model to auto infer the model signature.\u001b[0m\n"
     ]
    },
    {
     "name": "stdout",
     "output_type": "stream",
     "text": [
      "Run 2: Accuracy = 1.0000, Precision = 1.0000, Recall = 1.0000\n",
      "🏃 View run random_forest_run_2 at: http://localhost:5000/#/experiments/1/runs/33566d3a4eb14bcc842d2f65ba09c3ba\n",
      "🧪 View experiment at: http://localhost:5000/#/experiments/1\n"
     ]
    },
    {
     "name": "stderr",
     "output_type": "stream",
     "text": [
      "2025/08/03 20:54:23 WARNING mlflow.utils.environment: Failed to resolve installed pip version. ``pip`` will be added to conda.yaml environment spec without a version specifier.\n",
      "\u001b[31m2025/08/03 20:54:23 WARNING mlflow.models.model: Model logged without a signature and input example. Please set `input_example` parameter when logging the model to auto infer the model signature.\u001b[0m\n"
     ]
    },
    {
     "name": "stdout",
     "output_type": "stream",
     "text": [
      "Run 3: Accuracy = 1.0000, Precision = 1.0000, Recall = 1.0000\n",
      "🏃 View run random_forest_run_3 at: http://localhost:5000/#/experiments/1/runs/55d407c6e35b4754a727939c1483bc7c\n",
      "🧪 View experiment at: http://localhost:5000/#/experiments/1\n"
     ]
    }
   ],
   "source": [
    "# 複数のパラメータセットでモデルを訓練\n",
    "param_combinations = [\n",
    "    {\"n_estimators\": 50, \"max_depth\": 3, \"random_state\": 42},\n",
    "    {\"n_estimators\": 100, \"max_depth\": 5, \"random_state\": 42},\n",
    "    {\"n_estimators\": 200, \"max_depth\": 10, \"random_state\": 42}\n",
    "]\n",
    "\n",
    "for i, params in enumerate(param_combinations):\n",
    "    with mlflow.start_run(run_name=f\"random_forest_run_{i+1}\"):\n",
    "        # パラメータをログ\n",
    "        mlflow.log_params(params)\n",
    "        \n",
    "        # モデルの訓練\n",
    "        model = RandomForestClassifier(**params)\n",
    "        model.fit(X_train, y_train)\n",
    "        \n",
    "        # 予測\n",
    "        y_pred = model.predict(X_test)\n",
    "        \n",
    "        # メトリクスの計算とログ\n",
    "        accuracy = accuracy_score(y_test, y_pred)\n",
    "        precision = precision_score(y_test, y_pred, average='weighted')\n",
    "        recall = recall_score(y_test, y_pred, average='weighted')\n",
    "        \n",
    "        mlflow.log_metric(\"accuracy\", accuracy)\n",
    "        mlflow.log_metric(\"precision\", precision)\n",
    "        mlflow.log_metric(\"recall\", recall)\n",
    "        \n",
    "        # モデルのログ\n",
    "        mlflow.sklearn.log_model(model, name=\"model\")\n",
    "        \n",
    "        # 追加情報のログ\n",
    "        mlflow.set_tag(\"model_type\", \"RandomForest\")\n",
    "        mlflow.set_tag(\"dataset\", \"iris\")\n",
    "        \n",
    "        print(f\"Run {i+1}: Accuracy = {accuracy:.4f}, Precision = {precision:.4f}, Recall = {recall:.4f}\")"
   ]
  },
  {
   "cell_type": "markdown",
   "id": "6div8ycgltd",
   "metadata": {},
   "source": [
    "## 5. アーティファクトのログ\n",
    "\n",
    "図表やデータファイルなどのアーティファクトをログします。"
   ]
  },
  {
   "cell_type": "code",
   "execution_count": 16,
   "id": "v3aarhl9d9",
   "metadata": {},
   "outputs": [
    {
     "data": {
      "image/png": "[encoded data removed]",
      "text/plain": [
       "<Figure size 800x600 with 2 Axes>"
      ]
     },
     "metadata": {},
     "output_type": "display_data"
    },
    {
     "data": {
      "image/png": "[encoded data removed]",
      "text/plain": [
       "<Figure size 1000x600 with 1 Axes>"
      ]
     },
     "metadata": {},
     "output_type": "display_data"
    },
    {
     "name": "stderr",
     "output_type": "stream",
     "text": [
      "2025/08/03 20:54:24 WARNING mlflow.models.model: `artifact_path` is deprecated. Please use `name` instead.\n",
      "2025/08/03 20:54:27 WARNING mlflow.utils.environment: Failed to resolve installed pip version. ``pip`` will be added to conda.yaml environment spec without a version specifier.\n",
      "\u001b[31m2025/08/03 20:54:27 WARNING mlflow.models.model: Model logged without a signature and input example. Please set `input_example` parameter when logging the model to auto infer the model signature.\u001b[0m\n"
     ]
    },
    {
     "name": "stdout",
     "output_type": "stream",
     "text": [
      "Model logged with accuracy: 1.0000\n",
      "🏃 View run model_with_artifacts at: http://localhost:5000/#/experiments/1/runs/56a9ac9b7e0b42f69a52ab615386382c\n",
      "🧪 View experiment at: http://localhost:5000/#/experiments/1\n"
     ]
    }
   ],
   "source": [
    "import matplotlib.pyplot as plt\n",
    "from sklearn.metrics import confusion_matrix\n",
    "import seaborn as sns\n",
    "\n",
    "with mlflow.start_run(run_name=\"model_with_artifacts\"):\n",
    "    # パラメータ\n",
    "    params = {\"n_estimators\": 100, \"max_depth\": 5, \"random_state\": 42}\n",
    "    mlflow.log_params(params)\n",
    "    \n",
    "    # モデル訓練\n",
    "    model = RandomForestClassifier(**params)\n",
    "    model.fit(X_train, y_train)\n",
    "    y_pred = model.predict(X_test)\n",
    "    \n",
    "    # メトリクス\n",
    "    accuracy = accuracy_score(y_test, y_pred)\n",
    "    mlflow.log_metric(\"accuracy\", accuracy)\n",
    "    \n",
    "    # 混同行列の可視化\n",
    "    plt.figure(figsize=(8, 6))\n",
    "    cm = confusion_matrix(y_test, y_pred)\n",
    "    sns.heatmap(cm, annot=True, fmt='d', cmap='Blues', \n",
    "                xticklabels=iris.target_names, \n",
    "                yticklabels=iris.target_names)\n",
    "    plt.title('Confusion Matrix')\n",
    "    plt.ylabel('True Label')\n",
    "    plt.xlabel('Predicted Label')\n",
    "    plt.tight_layout()\n",
    "    \n",
    "    # 図をファイルとして保存してログ\n",
    "    plt.savefig('confusion_matrix.png')\n",
    "    mlflow.log_artifact('confusion_matrix.png')\n",
    "    plt.show()\n",
    "    \n",
    "    # 特徴量重要度の可視化\n",
    "    plt.figure(figsize=(10, 6))\n",
    "    feature_importance = pd.DataFrame({\n",
    "        'feature': iris.feature_names,\n",
    "        'importance': model.feature_importances_\n",
    "    }).sort_values('importance', ascending=False)\n",
    "    \n",
    "    sns.barplot(data=feature_importance, x='importance', y='feature')\n",
    "    plt.title('Feature Importance')\n",
    "    plt.tight_layout()\n",
    "    \n",
    "    plt.savefig('feature_importance.png')\n",
    "    mlflow.log_artifact('feature_importance.png')\n",
    "    plt.show()\n",
    "    \n",
    "    # CSVファイルとしてデータを保存してログ\n",
    "    feature_importance.to_csv('feature_importance.csv', index=False)\n",
    "    mlflow.log_artifact('feature_importance.csv')\n",
    "    \n",
    "    # モデルのログ\n",
    "    mlflow.sklearn.log_model(model, \"model\")\n",
    "    \n",
    "    print(f\"Model logged with accuracy: {accuracy:.4f}\")"
   ]
  },
  {
   "cell_type": "markdown",
   "id": "igrqom6f0c8",
   "metadata": {},
   "source": [
    "## 6. 過去の実験結果の取得\n",
    "\n",
    "MLflowから過去の実験結果を取得して比較します。"
   ]
  },
  {
   "cell_type": "code",
   "execution_count": 17,
   "id": "vixn5oo2e09",
   "metadata": {},
   "outputs": [
    {
     "name": "stdout",
     "output_type": "stream",
     "text": [
      "Experiment Results:\n",
      "==================================================\n",
      "                             run_id  metrics.accuracy  metrics.precision  \\\n",
      "0  56a9ac9b7e0b42f69a52ab615386382c               1.0                NaN   \n",
      "1  55d407c6e35b4754a727939c1483bc7c               1.0                1.0   \n",
      "2  33566d3a4eb14bcc842d2f65ba09c3ba               1.0                1.0   \n",
      "3  0741e30920f7478991abf52f98468960               1.0                1.0   \n",
      "4  502b7b2c4f29458da384e799d8a30a9d               1.0                NaN   \n",
      "\n",
      "   metrics.recall params.n_estimators params.max_depth   tags.mlflow.runName  \n",
      "0             NaN                 100                5  model_with_artifacts  \n",
      "1             1.0                 200               10   random_forest_run_3  \n",
      "2             1.0                 100                5   random_forest_run_2  \n",
      "3             1.0                  50                3   random_forest_run_1  \n",
      "4             NaN                 100                5  model_with_artifacts  \n"
     ]
    }
   ],
   "source": [
    "# 現在のexperimentの全実行を取得\n",
    "runs = mlflow.search_runs(experiment_ids=[experiment_id])\n",
    "\n",
    "# 結果の表示\n",
    "print(\"Experiment Results:\")\n",
    "print(\"=\"*50)\n",
    "display_columns = ['run_id', 'metrics.accuracy', 'metrics.precision', 'metrics.recall', \n",
    "                  'params.n_estimators', 'params.max_depth', 'tags.mlflow.runName']\n",
    "available_columns = [col for col in display_columns if col in runs.columns]\n",
    "print(runs[available_columns].head())"
   ]
  },
  {
   "cell_type": "code",
   "execution_count": 18,
   "id": "7v6yyuvatfl",
   "metadata": {},
   "outputs": [
    {
     "name": "stdout",
     "output_type": "stream",
     "text": [
      "Best Run ID: 56a9ac9b7e0b42f69a52ab615386382c\n",
      "Best Accuracy: 1.0000\n",
      "Parameters: n_estimators=100, max_depth=5\n"
     ]
    }
   ],
   "source": [
    "# 最高スコアの実行を取得\n",
    "if 'metrics.accuracy' in runs.columns:\n",
    "    best_run = runs.loc[runs['metrics.accuracy'].idxmax()]\n",
    "    print(f\"Best Run ID: {best_run['run_id']}\")\n",
    "    print(f\"Best Accuracy: {best_run['metrics.accuracy']:.4f}\")\n",
    "    print(f\"Parameters: n_estimators={best_run.get('params.n_estimators', 'N/A')}, max_depth={best_run.get('params.max_depth', 'N/A')}\")"
   ]
  },
  {
   "cell_type": "markdown",
   "id": "by10cp26k27",
   "metadata": {},
   "source": [
    "## 7. モデルの読み込みと推論\n",
    "\n",
    "保存されたモデルを読み込んで推論を行います。"
   ]
  },
  {
   "cell_type": "code",
   "execution_count": 19,
   "id": "vdyn3bmrrie",
   "metadata": {},
   "outputs": [
    {
     "name": "stdout",
     "output_type": "stream",
     "text": [
      "Loaded model from run: 56a9ac9b7e0b42f69a52ab615386382c\n",
      "Test predictions: [1 0 2 1 1 0 1 2 1 1]\n",
      "Actual labels: [1 0 2 1 1 0 1 2 1 1]\n",
      "Accuracy: 1.0000\n"
     ]
    }
   ],
   "source": [
    "# 最高スコアのモデルを読み込み\n",
    "if 'metrics.accuracy' in runs.columns and len(runs) > 0:\n",
    "    best_run_id = runs.loc[runs['metrics.accuracy'].idxmax(), 'run_id']\n",
    "    model_uri = f\"runs:/{best_run_id}/model\"\n",
    "    \n",
    "    # モデルの読み込み\n",
    "    loaded_model = mlflow.sklearn.load_model(model_uri)\n",
    "    \n",
    "    # テストデータで推論\n",
    "    predictions = loaded_model.predict(X_test)\n",
    "    \n",
    "    print(f\"Loaded model from run: {best_run_id}\")\n",
    "    print(f\"Test predictions: {predictions[:10]}\")\n",
    "    print(f\"Actual labels: {y_test[:10]}\")\n",
    "    print(f\"Accuracy: {accuracy_score(y_test, predictions):.4f}\")"
   ]
  },
  {
   "cell_type": "markdown",
   "id": "xxjfm9hutj",
   "metadata": {},
   "source": [
    "## 8. MLflow UIでの結果確認\n",
    "\n",
    "MLflow UIで結果を確認するには、以下のURLにアクセスしてください：\n",
    "\n",
    "http://localhost:5000\n",
    "\n",
    "ここで以下の情報を確認できます：\n",
    "- 実験の一覧\n",
    "- 各実行のパラメータとメトリクス\n",
    "- モデルの比較\n",
    "- アーティファクト（図表、ファイルなど）\n",
    "- モデルの詳細情報"
   ]
  },
  {
   "cell_type": "markdown",
   "id": "xv6rrm4i5aq",
   "metadata": {},
   "source": [
    "## まとめ\n",
    "\n",
    "このノートブックでは以下のMLflowの機能を学習しました：\n",
    "\n",
    "1. **トラッキングサーバーへの接続**: `mlflow.set_tracking_uri()`でcompose.yamlで定義されたサーバーに接続\n",
    "2. **Experimentの管理**: 実験の作成と設定\n",
    "3. **Runの作成**: `mlflow.start_run()`で実行コンテキストを作成\n",
    "4. **パラメータのログ**: `mlflow.log_params()`でハイパーパラメータを記録\n",
    "5. **メトリクスのログ**: `mlflow.log_metric()`で評価指標を記録\n",
    "6. **モデルのログ**: `mlflow.sklearn.log_model()`でモデルを保存\n",
    "7. **アーティファクトのログ**: 図表やファイルの保存\n",
    "8. **実験結果の取得**: `mlflow.search_runs()`で過去の結果を取得\n",
    "9. **モデルの読み込み**: 保存されたモデルの読み込みと推論\n",
    "\n",
    "MLflowを使用することで、機械学習実験の管理、モデルの比較、再現性の確保が簡単に行えます。"
   ]
  },
  {
   "cell_type": "code",
   "execution_count": null,
   "id": "3dd0b89f-8d2c-4418-90ba-6295a31911c0",
   "metadata": {},
   "outputs": [],
   "source": []
  },
  {
   "cell_type": "code",
   "execution_count": null,
   "id": "a3569150-53b6-4cba-a4ec-ffc35770aa5e",
   "metadata": {},
   "outputs": [],
   "source": []
  }
 ],
 "metadata": {
  "kernelspec": {
   "display_name": "Python 3 (ipykernel)",
   "language": "python",
   "name": "python3"
  },
  "language_info": {
   "codemirror_mode": {
    "name": "ipython",
    "version": 3
   },
   "file_extension": ".py",
   "mimetype": "text/x-python",
   "name": "python",
   "nbconvert_exporter": "python",
   "pygments_lexer": "ipython3",
   "version": "3.13.3"
  }
 },
 "nbformat": 4,
 "nbformat_minor": 5
}
