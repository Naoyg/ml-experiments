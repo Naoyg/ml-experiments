{
 "cells": [
  {
   "cell_type": "markdown",
   "id": "aaf74408-1b43-47e0-a8bb-d1583010725d",
   "metadata": {},
   "source": [
    "# MLflow使用方法のサンプル\n",
    "\n",
    "このノートブックではMLflowの基本的な使用方法を説明します。"
   ]
  },
  {
   "cell_type": "markdown",
   "id": "6d99b7d2-6812-4437-bc82-c0498d5863d1",
   "metadata": {},
   "source": [
    "## 1. MLflowのセットアップ\n",
    "\n",
    "MLflowサーバーへの接続設定を行います。compose.yamlで定義されているMLflowサーバーを使用します。"
   ]
  },
  {
   "cell_type": "code",
   "execution_count": 1,
   "id": "cwdeurgpsxs",
   "metadata": {},
   "outputs": [],
   "source": [
    "import mlflow\n",
    "import mlflow.sklearn\n",
    "from sklearn.model_selection import train_test_split\n",
    "from sklearn.ensemble import RandomForestClassifier\n",
    "from sklearn.datasets import load_iris\n",
    "from sklearn.metrics import accuracy_score, precision_score, recall_score\n",
    "import numpy as np\n",
    "import pandas as pd"
   ]
  },
  {
   "cell_type": "code",
   "execution_count": 2,
   "id": "4uyvqtmwb4g",
   "metadata": {},
   "outputs": [
    {
     "name": "stdout",
     "output_type": "stream",
     "text": [
      "MLflow Tracking URI: http://localhost:5000\n"
     ]
    }
   ],
   "source": [
    "# MLflowトラッキングサーバーのURI設定\n",
    "mlflow.set_tracking_uri(\"http://localhost:5000\")\n",
    "\n",
    "# 現在のトラッキングURIを確認\n",
    "print(f\"MLflow Tracking URI: {mlflow.get_tracking_uri()}\")"
   ]
  },
  {
   "cell_type": "markdown",
   "id": "ztt7zybh7xd",
   "metadata": {},
   "source": [
    "## 2. Experimentの作成・設定\n",
    "\n",
    "実験を管理するためのExperimentを作成します。"
   ]
  },
  {
   "cell_type": "code",
   "execution_count": 3,
   "id": "stdesvdljft",
   "metadata": {},
   "outputs": [
    {
     "name": "stdout",
     "output_type": "stream",
     "text": [
      "Using existing experiment: iris-classification (ID: 1)\n"
     ]
    },
    {
     "data": {
      "text/plain": [
       "<Experiment: artifact_location='/mlflow/artifacts/1', creation_time=1753867101991, experiment_id='1', last_update_time=1753867101991, lifecycle_stage='active', name='iris-classification', tags={}>"
      ]
     },
     "execution_count": 3,
     "metadata": {},
     "output_type": "execute_result"
    }
   ],
   "source": [
    "# Experimentの作成または取得\n",
    "experiment_name = \"iris-classification\"\n",
    "experiment = mlflow.get_experiment_by_name(experiment_name)\n",
    "\n",
    "if experiment is None:\n",
    "    experiment_id = mlflow.create_experiment(experiment_name)\n",
    "    print(f\"Created new experiment: {experiment_name} (ID: {experiment_id})\")\n",
    "else:\n",
    "    experiment_id = experiment.experiment_id\n",
    "    print(f\"Using existing experiment: {experiment_name} (ID: {experiment_id})\")\n",
    "\n",
    "mlflow.set_experiment(experiment_name)"
   ]
  },
  {
   "cell_type": "markdown",
   "id": "zqunu5x7e89",
   "metadata": {},
   "source": [
    "## 3. データの準備\n",
    "\n",
    "サンプルデータセット（Iris）を使用してモデルを訓練します。"
   ]
  },
  {
   "cell_type": "code",
   "execution_count": 4,
   "id": "y4wsoze5jij",
   "metadata": {},
   "outputs": [
    {
     "name": "stdout",
     "output_type": "stream",
     "text": [
      "Training data shape: (120, 4)\n",
      "Test data shape: (30, 4)\n"
     ]
    }
   ],
   "source": [
    "# データの読み込み\n",
    "iris = load_iris()\n",
    "X, y = iris.data, iris.target\n",
    "\n",
    "# データの分割\n",
    "X_train, X_test, y_train, y_test = train_test_split(X, y, test_size=0.2, random_state=42)\n",
    "\n",
    "print(f\"Training data shape: {X_train.shape}\")\n",
    "print(f\"Test data shape: {X_test.shape}\")"
   ]
  },
  {
   "cell_type": "markdown",
   "id": "ysjbam6535g",
   "metadata": {},
   "source": [
    "## 4. モデルの訓練とMLflowでのトラッキング\n",
    "\n",
    "複数の異なるパラメータでモデルを訓練し、結果をMLflowで記録します。"
   ]
  },
  {
   "cell_type": "code",
   "execution_count": 6,
   "id": "ygjfncqoxna",
   "metadata": {},
   "outputs": [
    {
     "name": "stderr",
     "output_type": "stream",
     "text": [
      "2025/07/30 18:50:14 WARNING mlflow.utils.environment: Failed to resolve installed pip version. ``pip`` will be added to conda.yaml environment spec without a version specifier.\n",
      "\u001b[31m2025/07/30 18:50:14 WARNING mlflow.models.model: Model logged without a signature and input example. Please set `input_example` parameter when logging the model to auto infer the model signature.\u001b[0m\n"
     ]
    },
    {
     "name": "stdout",
     "output_type": "stream",
     "text": [
      "🏃 View run random_forest_run_1 at: http://localhost:5000/#/experiments/1/runs/6cedb3e7ccf5467b8ed23bc253257441\n",
      "🧪 View experiment at: http://localhost:5000/#/experiments/1\n"
     ]
    },
    {
     "ename": "PermissionError",
     "evalue": "[Errno 13] Permission denied: '/mlflow'",
     "output_type": "error",
     "traceback": [
      "\u001b[31m---------------------------------------------------------------------------\u001b[39m",
      "\u001b[31mPermissionError\u001b[39m                           Traceback (most recent call last)",
      "\u001b[36mCell\u001b[39m\u001b[36m \u001b[39m\u001b[32mIn[6]\u001b[39m\u001b[32m, line 30\u001b[39m\n\u001b[32m     27\u001b[39m mlflow.log_metric(\u001b[33m\"\u001b[39m\u001b[33mrecall\u001b[39m\u001b[33m\"\u001b[39m, recall)\n\u001b[32m     29\u001b[39m \u001b[38;5;66;03m# モデルのログ\u001b[39;00m\n\u001b[32m---> \u001b[39m\u001b[32m30\u001b[39m \u001b[43mmlflow\u001b[49m\u001b[43m.\u001b[49m\u001b[43msklearn\u001b[49m\u001b[43m.\u001b[49m\u001b[43mlog_model\u001b[49m\u001b[43m(\u001b[49m\u001b[43mmodel\u001b[49m\u001b[43m,\u001b[49m\u001b[43m \u001b[49m\u001b[43mname\u001b[49m\u001b[43m=\u001b[49m\u001b[33;43m\"\u001b[39;49m\u001b[33;43mmodel\u001b[39;49m\u001b[33;43m\"\u001b[39;49m\u001b[43m)\u001b[49m\n\u001b[32m     32\u001b[39m \u001b[38;5;66;03m# 追加情報のログ\u001b[39;00m\n\u001b[32m     33\u001b[39m mlflow.set_tag(\u001b[33m\"\u001b[39m\u001b[33mmodel_type\u001b[39m\u001b[33m\"\u001b[39m, \u001b[33m\"\u001b[39m\u001b[33mRandomForest\u001b[39m\u001b[33m\"\u001b[39m)\n",
      "\u001b[36mFile \u001b[39m\u001b[32m~/workspace/ml-experiments/.venv/lib/python3.13/site-packages/mlflow/sklearn/__init__.py:426\u001b[39m, in \u001b[36mlog_model\u001b[39m\u001b[34m(sk_model, artifact_path, conda_env, code_paths, serialization_format, registered_model_name, signature, input_example, await_registration_for, pip_requirements, extra_pip_requirements, pyfunc_predict_fn, metadata, params, tags, model_type, step, model_id, name)\u001b[39m\n\u001b[32m    334\u001b[39m \u001b[38;5;129m@format_docstring\u001b[39m(LOG_MODEL_PARAM_DOCS.format(package_name=\u001b[33m\"\u001b[39m\u001b[33mscikit-learn\u001b[39m\u001b[33m\"\u001b[39m))\n\u001b[32m    335\u001b[39m \u001b[38;5;28;01mdef\u001b[39;00m\u001b[38;5;250m \u001b[39m\u001b[34mlog_model\u001b[39m(\n\u001b[32m    336\u001b[39m     sk_model,\n\u001b[32m   (...)\u001b[39m\u001b[32m    355\u001b[39m     name: Optional[\u001b[38;5;28mstr\u001b[39m] = \u001b[38;5;28;01mNone\u001b[39;00m,\n\u001b[32m    356\u001b[39m ):\n\u001b[32m    357\u001b[39m \u001b[38;5;250m    \u001b[39m\u001b[33;03m\"\"\"\u001b[39;00m\n\u001b[32m    358\u001b[39m \u001b[33;03m    Log a scikit-learn model as an MLflow artifact for the current run. Produces an MLflow Model\u001b[39;00m\n\u001b[32m    359\u001b[39m \u001b[33;03m    containing the following flavors:\u001b[39;00m\n\u001b[32m   (...)\u001b[39m\u001b[32m    424\u001b[39m \n\u001b[32m    425\u001b[39m \u001b[33;03m    \"\"\"\u001b[39;00m\n\u001b[32m--> \u001b[39m\u001b[32m426\u001b[39m     \u001b[38;5;28;01mreturn\u001b[39;00m \u001b[43mModel\u001b[49m\u001b[43m.\u001b[49m\u001b[43mlog\u001b[49m\u001b[43m(\u001b[49m\n\u001b[32m    427\u001b[39m \u001b[43m        \u001b[49m\u001b[43martifact_path\u001b[49m\u001b[43m=\u001b[49m\u001b[43martifact_path\u001b[49m\u001b[43m,\u001b[49m\n\u001b[32m    428\u001b[39m \u001b[43m        \u001b[49m\u001b[43mname\u001b[49m\u001b[43m=\u001b[49m\u001b[43mname\u001b[49m\u001b[43m,\u001b[49m\n\u001b[32m    429\u001b[39m \u001b[43m        \u001b[49m\u001b[43mflavor\u001b[49m\u001b[43m=\u001b[49m\u001b[43mmlflow\u001b[49m\u001b[43m.\u001b[49m\u001b[43msklearn\u001b[49m\u001b[43m,\u001b[49m\n\u001b[32m    430\u001b[39m \u001b[43m        \u001b[49m\u001b[43msk_model\u001b[49m\u001b[43m=\u001b[49m\u001b[43msk_model\u001b[49m\u001b[43m,\u001b[49m\n\u001b[32m    431\u001b[39m \u001b[43m        \u001b[49m\u001b[43mconda_env\u001b[49m\u001b[43m=\u001b[49m\u001b[43mconda_env\u001b[49m\u001b[43m,\u001b[49m\n\u001b[32m    432\u001b[39m \u001b[43m        \u001b[49m\u001b[43mcode_paths\u001b[49m\u001b[43m=\u001b[49m\u001b[43mcode_paths\u001b[49m\u001b[43m,\u001b[49m\n\u001b[32m    433\u001b[39m \u001b[43m        \u001b[49m\u001b[43mserialization_format\u001b[49m\u001b[43m=\u001b[49m\u001b[43mserialization_format\u001b[49m\u001b[43m,\u001b[49m\n\u001b[32m    434\u001b[39m \u001b[43m        \u001b[49m\u001b[43mregistered_model_name\u001b[49m\u001b[43m=\u001b[49m\u001b[43mregistered_model_name\u001b[49m\u001b[43m,\u001b[49m\n\u001b[32m    435\u001b[39m \u001b[43m        \u001b[49m\u001b[43msignature\u001b[49m\u001b[43m=\u001b[49m\u001b[43msignature\u001b[49m\u001b[43m,\u001b[49m\n\u001b[32m    436\u001b[39m \u001b[43m        \u001b[49m\u001b[43minput_example\u001b[49m\u001b[43m=\u001b[49m\u001b[43minput_example\u001b[49m\u001b[43m,\u001b[49m\n\u001b[32m    437\u001b[39m \u001b[43m        \u001b[49m\u001b[43mawait_registration_for\u001b[49m\u001b[43m=\u001b[49m\u001b[43mawait_registration_for\u001b[49m\u001b[43m,\u001b[49m\n\u001b[32m    438\u001b[39m \u001b[43m        \u001b[49m\u001b[43mpip_requirements\u001b[49m\u001b[43m=\u001b[49m\u001b[43mpip_requirements\u001b[49m\u001b[43m,\u001b[49m\n\u001b[32m    439\u001b[39m \u001b[43m        \u001b[49m\u001b[43mextra_pip_requirements\u001b[49m\u001b[43m=\u001b[49m\u001b[43mextra_pip_requirements\u001b[49m\u001b[43m,\u001b[49m\n\u001b[32m    440\u001b[39m \u001b[43m        \u001b[49m\u001b[43mpyfunc_predict_fn\u001b[49m\u001b[43m=\u001b[49m\u001b[43mpyfunc_predict_fn\u001b[49m\u001b[43m,\u001b[49m\n\u001b[32m    441\u001b[39m \u001b[43m        \u001b[49m\u001b[43mmetadata\u001b[49m\u001b[43m=\u001b[49m\u001b[43mmetadata\u001b[49m\u001b[43m,\u001b[49m\n\u001b[32m    442\u001b[39m \u001b[43m        \u001b[49m\u001b[43mparams\u001b[49m\u001b[43m=\u001b[49m\u001b[43mparams\u001b[49m\u001b[43m,\u001b[49m\n\u001b[32m    443\u001b[39m \u001b[43m        \u001b[49m\u001b[43mtags\u001b[49m\u001b[43m=\u001b[49m\u001b[43mtags\u001b[49m\u001b[43m,\u001b[49m\n\u001b[32m    444\u001b[39m \u001b[43m        \u001b[49m\u001b[43mmodel_type\u001b[49m\u001b[43m=\u001b[49m\u001b[43mmodel_type\u001b[49m\u001b[43m,\u001b[49m\n\u001b[32m    445\u001b[39m \u001b[43m        \u001b[49m\u001b[43mstep\u001b[49m\u001b[43m=\u001b[49m\u001b[43mstep\u001b[49m\u001b[43m,\u001b[49m\n\u001b[32m    446\u001b[39m \u001b[43m        \u001b[49m\u001b[43mmodel_id\u001b[49m\u001b[43m=\u001b[49m\u001b[43mmodel_id\u001b[49m\u001b[43m,\u001b[49m\n\u001b[32m    447\u001b[39m \u001b[43m    \u001b[49m\u001b[43m)\u001b[49m\n",
      "\u001b[36mFile \u001b[39m\u001b[32m~/workspace/ml-experiments/.venv/lib/python3.13/site-packages/mlflow/models/model.py:1286\u001b[39m, in \u001b[36mModel.log\u001b[39m\u001b[34m(cls, artifact_path, flavor, registered_model_name, await_registration_for, metadata, run_id, resources, auth_policy, prompts, name, model_type, params, tags, step, model_id, **kwargs)\u001b[39m\n\u001b[32m   1283\u001b[39m     \u001b[38;5;66;03m# mlflow_model is updated, rewrite the MLmodel file\u001b[39;00m\n\u001b[32m   1284\u001b[39m     mlflow_model.save(os.path.join(local_path, MLMODEL_FILE_NAME))\n\u001b[32m-> \u001b[39m\u001b[32m1286\u001b[39m \u001b[43mclient\u001b[49m\u001b[43m.\u001b[49m\u001b[43mlog_model_artifacts\u001b[49m\u001b[43m(\u001b[49m\u001b[43mmodel\u001b[49m\u001b[43m.\u001b[49m\u001b[43mmodel_id\u001b[49m\u001b[43m,\u001b[49m\u001b[43m \u001b[49m\u001b[43mlocal_path\u001b[49m\u001b[43m)\u001b[49m\n\u001b[32m   1287\u001b[39m \u001b[38;5;66;03m# If the model was previously identified as external, delete the tag because\u001b[39;00m\n\u001b[32m   1288\u001b[39m \u001b[38;5;66;03m# the model now has artifacts in MLflow Model format\u001b[39;00m\n\u001b[32m   1289\u001b[39m \u001b[38;5;28;01mif\u001b[39;00m model.tags.get(MLFLOW_MODEL_IS_EXTERNAL, \u001b[33m\"\u001b[39m\u001b[33mfalse\u001b[39m\u001b[33m\"\u001b[39m).lower() == \u001b[33m\"\u001b[39m\u001b[33mtrue\u001b[39m\u001b[33m\"\u001b[39m:\n",
      "\u001b[36mFile \u001b[39m\u001b[32m~/workspace/ml-experiments/.venv/lib/python3.13/site-packages/mlflow/tracking/client.py:5512\u001b[39m, in \u001b[36mMlflowClient.log_model_artifacts\u001b[39m\u001b[34m(self, model_id, local_dir)\u001b[39m\n\u001b[32m   5501\u001b[39m \u001b[38;5;28;01mdef\u001b[39;00m\u001b[38;5;250m \u001b[39m\u001b[34mlog_model_artifacts\u001b[39m(\u001b[38;5;28mself\u001b[39m, model_id: \u001b[38;5;28mstr\u001b[39m, local_dir: \u001b[38;5;28mstr\u001b[39m) -> \u001b[38;5;28;01mNone\u001b[39;00m:\n\u001b[32m   5502\u001b[39m \u001b[38;5;250m    \u001b[39m\u001b[33;03m\"\"\"\u001b[39;00m\n\u001b[32m   5503\u001b[39m \u001b[33;03m    Upload a set of artifacts to the specified logged model.\u001b[39;00m\n\u001b[32m   5504\u001b[39m \n\u001b[32m   (...)\u001b[39m\u001b[32m   5510\u001b[39m \u001b[33;03m        None\u001b[39;00m\n\u001b[32m   5511\u001b[39m \u001b[33;03m    \"\"\"\u001b[39;00m\n\u001b[32m-> \u001b[39m\u001b[32m5512\u001b[39m     \u001b[38;5;28;01mreturn\u001b[39;00m \u001b[38;5;28;43mself\u001b[39;49m\u001b[43m.\u001b[49m\u001b[43m_tracking_client\u001b[49m\u001b[43m.\u001b[49m\u001b[43mlog_model_artifacts\u001b[49m\u001b[43m(\u001b[49m\u001b[43mmodel_id\u001b[49m\u001b[43m,\u001b[49m\u001b[43m \u001b[49m\u001b[43mlocal_dir\u001b[49m\u001b[43m)\u001b[49m\n",
      "\u001b[36mFile \u001b[39m\u001b[32m~/workspace/ml-experiments/.venv/lib/python3.13/site-packages/mlflow/tracking/_tracking_service/client.py:864\u001b[39m, in \u001b[36mTrackingServiceClient.log_model_artifacts\u001b[39m\u001b[34m(self, model_id, local_dir)\u001b[39m\n\u001b[32m    863\u001b[39m \u001b[38;5;28;01mdef\u001b[39;00m\u001b[38;5;250m \u001b[39m\u001b[34mlog_model_artifacts\u001b[39m(\u001b[38;5;28mself\u001b[39m, model_id: \u001b[38;5;28mstr\u001b[39m, local_dir: \u001b[38;5;28mstr\u001b[39m) -> \u001b[38;5;28;01mNone\u001b[39;00m:\n\u001b[32m--> \u001b[39m\u001b[32m864\u001b[39m     \u001b[38;5;28;43mself\u001b[39;49m\u001b[43m.\u001b[49m\u001b[43m_get_artifact_repo\u001b[49m\u001b[43m(\u001b[49m\u001b[43mmodel_id\u001b[49m\u001b[43m,\u001b[49m\u001b[43m \u001b[49m\u001b[43mresource\u001b[49m\u001b[43m=\u001b[49m\u001b[33;43m\"\u001b[39;49m\u001b[33;43mlogged_model\u001b[39;49m\u001b[33;43m\"\u001b[39;49m\u001b[43m)\u001b[49m\u001b[43m.\u001b[49m\u001b[43mlog_artifacts\u001b[49m\u001b[43m(\u001b[49m\u001b[43mlocal_dir\u001b[49m\u001b[43m)\u001b[49m\n",
      "\u001b[36mFile \u001b[39m\u001b[32m~/workspace/ml-experiments/.venv/lib/python3.13/site-packages/mlflow/store/artifact/local_artifact_repo.py:67\u001b[39m, in \u001b[36mLocalArtifactRepository.log_artifacts\u001b[39m\u001b[34m(self, local_dir, artifact_path)\u001b[39m\n\u001b[32m     63\u001b[39m artifact_dir = (\n\u001b[32m     64\u001b[39m     os.path.join(\u001b[38;5;28mself\u001b[39m.artifact_dir, artifact_path) \u001b[38;5;28;01mif\u001b[39;00m artifact_path \u001b[38;5;28;01melse\u001b[39;00m \u001b[38;5;28mself\u001b[39m.artifact_dir\n\u001b[32m     65\u001b[39m )\n\u001b[32m     66\u001b[39m \u001b[38;5;28;01mif\u001b[39;00m \u001b[38;5;129;01mnot\u001b[39;00m os.path.exists(artifact_dir):\n\u001b[32m---> \u001b[39m\u001b[32m67\u001b[39m     \u001b[43mmkdir\u001b[49m\u001b[43m(\u001b[49m\u001b[43martifact_dir\u001b[49m\u001b[43m)\u001b[49m\n\u001b[32m     68\u001b[39m shutil_copytree_without_file_permissions(local_dir, artifact_dir)\n",
      "\u001b[36mFile \u001b[39m\u001b[32m~/workspace/ml-experiments/.venv/lib/python3.13/site-packages/mlflow/utils/file_utils.py:209\u001b[39m, in \u001b[36mmkdir\u001b[39m\u001b[34m(root, name)\u001b[39m\n\u001b[32m    207\u001b[39m \u001b[38;5;28;01mexcept\u001b[39;00m \u001b[38;5;167;01mOSError\u001b[39;00m \u001b[38;5;28;01mas\u001b[39;00m e:\n\u001b[32m    208\u001b[39m     \u001b[38;5;28;01mif\u001b[39;00m e.errno != errno.EEXIST \u001b[38;5;129;01mor\u001b[39;00m \u001b[38;5;129;01mnot\u001b[39;00m os.path.isdir(target):\n\u001b[32m--> \u001b[39m\u001b[32m209\u001b[39m         \u001b[38;5;28;01mraise\u001b[39;00m e\n\u001b[32m    210\u001b[39m \u001b[38;5;28;01mreturn\u001b[39;00m target\n",
      "\u001b[36mFile \u001b[39m\u001b[32m~/workspace/ml-experiments/.venv/lib/python3.13/site-packages/mlflow/utils/file_utils.py:206\u001b[39m, in \u001b[36mmkdir\u001b[39m\u001b[34m(root, name)\u001b[39m\n\u001b[32m    204\u001b[39m target = os.path.join(root, name) \u001b[38;5;28;01mif\u001b[39;00m name \u001b[38;5;129;01mis\u001b[39;00m \u001b[38;5;129;01mnot\u001b[39;00m \u001b[38;5;28;01mNone\u001b[39;00m \u001b[38;5;28;01melse\u001b[39;00m root\n\u001b[32m    205\u001b[39m \u001b[38;5;28;01mtry\u001b[39;00m:\n\u001b[32m--> \u001b[39m\u001b[32m206\u001b[39m     \u001b[43mos\u001b[49m\u001b[43m.\u001b[49m\u001b[43mmakedirs\u001b[49m\u001b[43m(\u001b[49m\u001b[43mtarget\u001b[49m\u001b[43m,\u001b[49m\u001b[43m \u001b[49m\u001b[43mexist_ok\u001b[49m\u001b[43m=\u001b[49m\u001b[38;5;28;43;01mTrue\u001b[39;49;00m\u001b[43m)\u001b[49m\n\u001b[32m    207\u001b[39m \u001b[38;5;28;01mexcept\u001b[39;00m \u001b[38;5;167;01mOSError\u001b[39;00m \u001b[38;5;28;01mas\u001b[39;00m e:\n\u001b[32m    208\u001b[39m     \u001b[38;5;28;01mif\u001b[39;00m e.errno != errno.EEXIST \u001b[38;5;129;01mor\u001b[39;00m \u001b[38;5;129;01mnot\u001b[39;00m os.path.isdir(target):\n",
      "\u001b[36mFile \u001b[39m\u001b[32m<frozen os>:217\u001b[39m, in \u001b[36mmakedirs\u001b[39m\u001b[34m(name, mode, exist_ok)\u001b[39m\n",
      "\u001b[36mFile \u001b[39m\u001b[32m<frozen os>:217\u001b[39m, in \u001b[36mmakedirs\u001b[39m\u001b[34m(name, mode, exist_ok)\u001b[39m\n",
      "    \u001b[31m[... skipping similar frames: makedirs at line 217 (2 times)]\u001b[39m\n",
      "\u001b[36mFile \u001b[39m\u001b[32m<frozen os>:217\u001b[39m, in \u001b[36mmakedirs\u001b[39m\u001b[34m(name, mode, exist_ok)\u001b[39m\n",
      "\u001b[36mFile \u001b[39m\u001b[32m<frozen os>:227\u001b[39m, in \u001b[36mmakedirs\u001b[39m\u001b[34m(name, mode, exist_ok)\u001b[39m\n",
      "\u001b[31mPermissionError\u001b[39m: [Errno 13] Permission denied: '/mlflow'"
     ]
    }
   ],
   "source": [
    "# 複数のパラメータセットでモデルを訓練\n",
    "param_combinations = [\n",
    "    {\"n_estimators\": 50, \"max_depth\": 3, \"random_state\": 42},\n",
    "    {\"n_estimators\": 100, \"max_depth\": 5, \"random_state\": 42},\n",
    "    {\"n_estimators\": 200, \"max_depth\": 10, \"random_state\": 42}\n",
    "]\n",
    "\n",
    "for i, params in enumerate(param_combinations):\n",
    "    with mlflow.start_run(run_name=f\"random_forest_run_{i+1}\"):\n",
    "        # パラメータをログ\n",
    "        mlflow.log_params(params)\n",
    "        \n",
    "        # モデルの訓練\n",
    "        model = RandomForestClassifier(**params)\n",
    "        model.fit(X_train, y_train)\n",
    "        \n",
    "        # 予測\n",
    "        y_pred = model.predict(X_test)\n",
    "        \n",
    "        # メトリクスの計算とログ\n",
    "        accuracy = accuracy_score(y_test, y_pred)\n",
    "        precision = precision_score(y_test, y_pred, average='weighted')\n",
    "        recall = recall_score(y_test, y_pred, average='weighted')\n",
    "        \n",
    "        mlflow.log_metric(\"accuracy\", accuracy)\n",
    "        mlflow.log_metric(\"precision\", precision)\n",
    "        mlflow.log_metric(\"recall\", recall)\n",
    "        \n",
    "        # モデルのログ\n",
    "        mlflow.sklearn.log_model(model, name=\"model\")\n",
    "        \n",
    "        # 追加情報のログ\n",
    "        mlflow.set_tag(\"model_type\", \"RandomForest\")\n",
    "        mlflow.set_tag(\"dataset\", \"iris\")\n",
    "        \n",
    "        print(f\"Run {i+1}: Accuracy = {accuracy:.4f}, Precision = {precision:.4f}, Recall = {recall:.4f}\")"
   ]
  },
  {
   "cell_type": "markdown",
   "id": "6div8ycgltd",
   "metadata": {},
   "source": [
    "## 5. アーティファクトのログ\n",
    "\n",
    "図表やデータファイルなどのアーティファクトをログします。"
   ]
  },
  {
   "cell_type": "code",
   "execution_count": null,
   "id": "v3aarhl9d9",
   "metadata": {},
   "outputs": [],
   "source": [
    "import matplotlib.pyplot as plt\n",
    "from sklearn.metrics import confusion_matrix\n",
    "import seaborn as sns\n",
    "\n",
    "with mlflow.start_run(run_name=\"model_with_artifacts\"):\n",
    "    # パラメータ\n",
    "    params = {\"n_estimators\": 100, \"max_depth\": 5, \"random_state\": 42}\n",
    "    mlflow.log_params(params)\n",
    "    \n",
    "    # モデル訓練\n",
    "    model = RandomForestClassifier(**params)\n",
    "    model.fit(X_train, y_train)\n",
    "    y_pred = model.predict(X_test)\n",
    "    \n",
    "    # メトリクス\n",
    "    accuracy = accuracy_score(y_test, y_pred)\n",
    "    mlflow.log_metric(\"accuracy\", accuracy)\n",
    "    \n",
    "    # 混同行列の可視化\n",
    "    plt.figure(figsize=(8, 6))\n",
    "    cm = confusion_matrix(y_test, y_pred)\n",
    "    sns.heatmap(cm, annot=True, fmt='d', cmap='Blues', \n",
    "                xticklabels=iris.target_names, \n",
    "                yticklabels=iris.target_names)\n",
    "    plt.title('Confusion Matrix')\n",
    "    plt.ylabel('True Label')\n",
    "    plt.xlabel('Predicted Label')\n",
    "    plt.tight_layout()\n",
    "    \n",
    "    # 図をファイルとして保存してログ\n",
    "    plt.savefig('confusion_matrix.png')\n",
    "    mlflow.log_artifact('confusion_matrix.png')\n",
    "    plt.show()\n",
    "    \n",
    "    # 特徴量重要度の可視化\n",
    "    plt.figure(figsize=(10, 6))\n",
    "    feature_importance = pd.DataFrame({\n",
    "        'feature': iris.feature_names,\n",
    "        'importance': model.feature_importances_\n",
    "    }).sort_values('importance', ascending=False)\n",
    "    \n",
    "    sns.barplot(data=feature_importance, x='importance', y='feature')\n",
    "    plt.title('Feature Importance')\n",
    "    plt.tight_layout()\n",
    "    \n",
    "    plt.savefig('feature_importance.png')\n",
    "    mlflow.log_artifact('feature_importance.png')\n",
    "    plt.show()\n",
    "    \n",
    "    # CSVファイルとしてデータを保存してログ\n",
    "    feature_importance.to_csv('feature_importance.csv', index=False)\n",
    "    mlflow.log_artifact('feature_importance.csv')\n",
    "    \n",
    "    # モデルのログ\n",
    "    mlflow.sklearn.log_model(model, \"model\")\n",
    "    \n",
    "    print(f\"Model logged with accuracy: {accuracy:.4f}\")"
   ]
  },
  {
   "cell_type": "markdown",
   "id": "igrqom6f0c8",
   "metadata": {},
   "source": [
    "## 6. 過去の実験結果の取得\n",
    "\n",
    "MLflowから過去の実験結果を取得して比較します。"
   ]
  },
  {
   "cell_type": "code",
   "execution_count": null,
   "id": "vixn5oo2e09",
   "metadata": {},
   "outputs": [],
   "source": [
    "# 現在のexperimentの全実行を取得\n",
    "runs = mlflow.search_runs(experiment_ids=[experiment_id])\n",
    "\n",
    "# 結果の表示\n",
    "print(\"Experiment Results:\")\n",
    "print(\"=\"*50)\n",
    "display_columns = ['run_id', 'metrics.accuracy', 'metrics.precision', 'metrics.recall', \n",
    "                  'params.n_estimators', 'params.max_depth', 'tags.mlflow.runName']\n",
    "available_columns = [col for col in display_columns if col in runs.columns]\n",
    "print(runs[available_columns].head())"
   ]
  },
  {
   "cell_type": "code",
   "execution_count": null,
   "id": "7v6yyuvatfl",
   "metadata": {},
   "outputs": [],
   "source": [
    "# 最高スコアの実行を取得\n",
    "if 'metrics.accuracy' in runs.columns:\n",
    "    best_run = runs.loc[runs['metrics.accuracy'].idxmax()]\n",
    "    print(f\"Best Run ID: {best_run['run_id']}\")\n",
    "    print(f\"Best Accuracy: {best_run['metrics.accuracy']:.4f}\")\n",
    "    print(f\"Parameters: n_estimators={best_run.get('params.n_estimators', 'N/A')}, max_depth={best_run.get('params.max_depth', 'N/A')}\")"
   ]
  },
  {
   "cell_type": "markdown",
   "id": "by10cp26k27",
   "metadata": {},
   "source": [
    "## 7. モデルの読み込みと推論\n",
    "\n",
    "保存されたモデルを読み込んで推論を行います。"
   ]
  },
  {
   "cell_type": "code",
   "execution_count": null,
   "id": "vdyn3bmrrie",
   "metadata": {},
   "outputs": [],
   "source": [
    "# 最高スコアのモデルを読み込み\n",
    "if 'metrics.accuracy' in runs.columns and len(runs) > 0:\n",
    "    best_run_id = runs.loc[runs['metrics.accuracy'].idxmax(), 'run_id']\n",
    "    model_uri = f\"runs:/{best_run_id}/model\"\n",
    "    \n",
    "    # モデルの読み込み\n",
    "    loaded_model = mlflow.sklearn.load_model(model_uri)\n",
    "    \n",
    "    # テストデータで推論\n",
    "    predictions = loaded_model.predict(X_test)\n",
    "    \n",
    "    print(f\"Loaded model from run: {best_run_id}\")\n",
    "    print(f\"Test predictions: {predictions[:10]}\")\n",
    "    print(f\"Actual labels: {y_test[:10]}\")\n",
    "    print(f\"Accuracy: {accuracy_score(y_test, predictions):.4f}\")"
   ]
  },
  {
   "cell_type": "markdown",
   "id": "xxjfm9hutj",
   "metadata": {},
   "source": [
    "## 8. MLflow UIでの結果確認\n",
    "\n",
    "MLflow UIで結果を確認するには、以下のURLにアクセスしてください：\n",
    "\n",
    "http://localhost:5000\n",
    "\n",
    "ここで以下の情報を確認できます：\n",
    "- 実験の一覧\n",
    "- 各実行のパラメータとメトリクス\n",
    "- モデルの比較\n",
    "- アーティファクト（図表、ファイルなど）\n",
    "- モデルの詳細情報"
   ]
  },
  {
   "cell_type": "markdown",
   "id": "xv6rrm4i5aq",
   "metadata": {},
   "source": [
    "## まとめ\n",
    "\n",
    "このノートブックでは以下のMLflowの機能を学習しました：\n",
    "\n",
    "1. **トラッキングサーバーへの接続**: `mlflow.set_tracking_uri()`でcompose.yamlで定義されたサーバーに接続\n",
    "2. **Experimentの管理**: 実験の作成と設定\n",
    "3. **Runの作成**: `mlflow.start_run()`で実行コンテキストを作成\n",
    "4. **パラメータのログ**: `mlflow.log_params()`でハイパーパラメータを記録\n",
    "5. **メトリクスのログ**: `mlflow.log_metric()`で評価指標を記録\n",
    "6. **モデルのログ**: `mlflow.sklearn.log_model()`でモデルを保存\n",
    "7. **アーティファクトのログ**: 図表やファイルの保存\n",
    "8. **実験結果の取得**: `mlflow.search_runs()`で過去の結果を取得\n",
    "9. **モデルの読み込み**: 保存されたモデルの読み込みと推論\n",
    "\n",
    "MLflowを使用することで、機械学習実験の管理、モデルの比較、再現性の確保が簡単に行えます。"
   ]
  }
 ],
 "metadata": {
  "kernelspec": {
   "display_name": "Python 3 (ipykernel)",
   "language": "python",
   "name": "python3"
  },
  "language_info": {
   "codemirror_mode": {
    "name": "ipython",
    "version": 3
   },
   "file_extension": ".py",
   "mimetype": "text/x-python",
   "name": "python",
   "nbconvert_exporter": "python",
   "pygments_lexer": "ipython3",
   "version": "3.13.3"
  }
 },
 "nbformat": 4,
 "nbformat_minor": 5
}
